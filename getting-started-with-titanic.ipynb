{
 "cells": [
  {
   "cell_type": "code",
   "execution_count": 1,
   "id": "a17c7ef4",
   "metadata": {
    "execution": {
     "iopub.execute_input": "2022-03-17T19:47:40.656851Z",
     "iopub.status.busy": "2022-03-17T19:47:40.654949Z",
     "iopub.status.idle": "2022-03-17T19:47:42.042121Z",
     "shell.execute_reply": "2022-03-17T19:47:42.041053Z",
     "shell.execute_reply.started": "2022-03-17T19:38:35.444050Z"
    },
    "papermill": {
     "duration": 1.405989,
     "end_time": "2022-03-17T19:47:42.042295",
     "exception": false,
     "start_time": "2022-03-17T19:47:40.636306",
     "status": "completed"
    },
    "tags": []
   },
   "outputs": [],
   "source": [
    "#Sarah Pagano \n",
    "import numpy as np\n",
    "import pandas as pd \n",
    "from sklearn.tree import DecisionTreeClassifier\n",
    "from sklearn.ensemble import RandomForestClassifier\n",
    "from sklearn.model_selection import train_test_split\n",
    "from sklearn import metrics \n",
    "from sklearn.preprocessing import LabelEncoder\n",
    "from sklearn.impute import KNNImputer\n",
    "from sklearn import tree\n",
    "import matplotlib.pyplot as plt\n",
    "from sklearn.metrics import accuracy_score\n",
    "from sklearn.model_selection import GridSearchCV\n",
    "from sklearn.model_selection import cross_val_score\n",
    "\n",
    "# storing data \n",
    "train_data = pd.read_csv(\"/kaggle/input/titanic/train.csv\")\n",
    "test_data = pd.read_csv(\"/kaggle/input/titanic/test.csv\")\n",
    "\n",
    "\n",
    "train_df = pd.DataFrame(data = train_data)\n",
    "test_df = pd.DataFrame(data = test_data)"
   ]
  },
  {
   "cell_type": "code",
   "execution_count": 2,
   "id": "7a586558",
   "metadata": {
    "_cell_guid": "b1076dfc-b9ad-4769-8c92-a6c4dae69d19",
    "_uuid": "8f2839f25d086af736a60e9eeb907d3b93b6e0e5",
    "execution": {
     "iopub.execute_input": "2022-03-17T19:47:42.071179Z",
     "iopub.status.busy": "2022-03-17T19:47:42.070198Z",
     "iopub.status.idle": "2022-03-17T19:47:42.104589Z",
     "shell.execute_reply": "2022-03-17T19:47:42.104003Z",
     "shell.execute_reply.started": "2022-03-17T19:38:35.470784Z"
    },
    "papermill": {
     "duration": 0.049263,
     "end_time": "2022-03-17T19:47:42.104745",
     "exception": false,
     "start_time": "2022-03-17T19:47:42.055482",
     "status": "completed"
    },
    "tags": []
   },
   "outputs": [
    {
     "name": "stdout",
     "output_type": "stream",
     "text": [
      "     Survived  Pclass     Sex   Age  SibSp  Parch     Fare Embarked\n",
      "0           0       3    male  22.0      1      0   7.2500        S\n",
      "1           1       1  female  38.0      1      0  71.2833        C\n",
      "2           1       3  female  26.0      0      0   7.9250        S\n",
      "3           1       1  female  35.0      1      0  53.1000        S\n",
      "4           0       3    male  35.0      0      0   8.0500        S\n",
      "..        ...     ...     ...   ...    ...    ...      ...      ...\n",
      "886         0       2    male  27.0      0      0  13.0000        S\n",
      "887         1       1  female  19.0      0      0  30.0000        S\n",
      "888         0       3  female   NaN      1      2  23.4500        S\n",
      "889         1       1    male  26.0      0      0  30.0000        C\n",
      "890         0       3    male  32.0      0      0   7.7500        Q\n",
      "\n",
      "[891 rows x 8 columns]\n"
     ]
    }
   ],
   "source": [
    "#The features I decided to use were the features that were most relavent to wether or not a passenger survived. \n",
    "#data like \"name\" and \"Ticket\" are only really used as identifiers, and therefore show little relavence \n",
    "#when considering if a passenger survived \n",
    "train_df = train_df.drop(columns=\"Ticket\")\n",
    "train_df = train_df.drop(columns=\"PassengerId\")\n",
    "train_df = train_df.drop(columns=\"Name\")\n",
    "train_df = train_df.drop(columns=\"Cabin\")\n",
    "\n",
    "print(train_df)\n",
    "\n",
    "test_df = test_df.drop(columns=\"Ticket\")\n",
    "test_df = test_df.drop(columns=\"PassengerId\")\n",
    "test_df = test_df.drop(columns=\"Name\")\n",
    "test_df = test_df.drop(columns=\"Cabin\")"
   ]
  },
  {
   "cell_type": "code",
   "execution_count": 3,
   "id": "2d130f89",
   "metadata": {
    "execution": {
     "iopub.execute_input": "2022-03-17T19:47:42.132386Z",
     "iopub.status.busy": "2022-03-17T19:47:42.131754Z",
     "iopub.status.idle": "2022-03-17T19:47:42.202130Z",
     "shell.execute_reply": "2022-03-17T19:47:42.203265Z",
     "shell.execute_reply.started": "2022-03-17T19:38:35.493713Z"
    },
    "papermill": {
     "duration": 0.086424,
     "end_time": "2022-03-17T19:47:42.203839",
     "exception": false,
     "start_time": "2022-03-17T19:47:42.117415",
     "status": "completed"
    },
    "tags": []
   },
   "outputs": [
    {
     "name": "stdout",
     "output_type": "stream",
     "text": [
      "     Survived  Pclass   Age  SibSp  Parch     Fare  Sex_encode  \\\n",
      "0         0.0     3.0  22.0    1.0    0.0   7.2500         1.0   \n",
      "1         1.0     1.0  38.0    1.0    0.0  71.2833         0.0   \n",
      "2         1.0     3.0  26.0    0.0    0.0   7.9250         0.0   \n",
      "3         1.0     1.0  35.0    1.0    0.0  53.1000         0.0   \n",
      "4         0.0     3.0  35.0    0.0    0.0   8.0500         1.0   \n",
      "..        ...     ...   ...    ...    ...      ...         ...   \n",
      "886       0.0     2.0  27.0    0.0    0.0  13.0000         1.0   \n",
      "887       1.0     1.0  19.0    0.0    0.0  30.0000         0.0   \n",
      "888       0.0     3.0  26.8    1.0    2.0  23.4500         0.0   \n",
      "889       1.0     1.0  26.0    0.0    0.0  30.0000         1.0   \n",
      "890       0.0     3.0  32.0    0.0    0.0   7.7500         1.0   \n",
      "\n",
      "     Embarked_encode  \n",
      "0                2.0  \n",
      "1                0.0  \n",
      "2                2.0  \n",
      "3                2.0  \n",
      "4                2.0  \n",
      "..               ...  \n",
      "886              2.0  \n",
      "887              2.0  \n",
      "888              2.0  \n",
      "889              0.0  \n",
      "890              1.0  \n",
      "\n",
      "[891 rows x 8 columns]\n"
     ]
    }
   ],
   "source": [
    "#encoding the categorical data \n",
    "le = LabelEncoder()\n",
    "\n",
    "train_df[\"Sex_encode\"] = le.fit_transform(train_df.loc[:,\"Sex\"])\n",
    "train_df = train_df.drop(columns=\"Sex\")\n",
    "\n",
    "train_df[\"Embarked_encode\"] = le.fit_transform(train_df.loc[:,\"Embarked\"].astype(str))\n",
    "train_df = train_df.drop(columns=\"Embarked\")\n",
    "\n",
    "test_df[\"Sex_encode\"] = le.fit_transform(test_df.loc[:,\"Sex\"])\n",
    "test_df = test_df.drop(columns=\"Sex\")\n",
    "\n",
    "test_df[\"Embarked_encode\"] = le.fit_transform(test_df.loc[:,\"Embarked\"].astype(str))\n",
    "test_df = test_df.drop(columns=\"Embarked\")\n",
    "\n",
    "#filling in any missing values \n",
    "imputer = KNNImputer(n_neighbors=5)\n",
    "train_df = pd.DataFrame(imputer.fit_transform(train_df),columns = train_df.columns)\n",
    "test_df = pd.DataFrame(imputer.fit_transform(train_df),columns = train_df.columns)\n",
    "\n",
    "\n",
    "print(train_df)"
   ]
  },
  {
   "cell_type": "code",
   "execution_count": 4,
   "id": "5d017eab",
   "metadata": {
    "execution": {
     "iopub.execute_input": "2022-03-17T19:47:42.264770Z",
     "iopub.status.busy": "2022-03-17T19:47:42.263518Z",
     "iopub.status.idle": "2022-03-17T19:47:42.272709Z",
     "shell.execute_reply": "2022-03-17T19:47:42.274344Z",
     "shell.execute_reply.started": "2022-03-17T19:38:35.564383Z"
    },
    "papermill": {
     "duration": 0.045856,
     "end_time": "2022-03-17T19:47:42.274666",
     "exception": false,
     "start_time": "2022-03-17T19:47:42.228810",
     "status": "completed"
    },
    "tags": []
   },
   "outputs": [],
   "source": [
    "#splitting the training data\n",
    "x = train_df.drop(columns=\"Survived\")\n",
    "y = train_df[\"Survived\"]\n",
    "\n",
    "x_train, x_test, y_train, y_test = train_test_split(x, y, random_state=1)\n"
   ]
  },
  {
   "cell_type": "code",
   "execution_count": 5,
   "id": "5344421c",
   "metadata": {
    "execution": {
     "iopub.execute_input": "2022-03-17T19:47:42.312810Z",
     "iopub.status.busy": "2022-03-17T19:47:42.311377Z",
     "iopub.status.idle": "2022-03-17T19:47:43.946520Z",
     "shell.execute_reply": "2022-03-17T19:47:43.945849Z",
     "shell.execute_reply.started": "2022-03-17T19:38:35.577553Z"
    },
    "papermill": {
     "duration": 1.656125,
     "end_time": "2022-03-17T19:47:43.946663",
     "exception": false,
     "start_time": "2022-03-17T19:47:42.290538",
     "status": "completed"
    },
    "tags": []
   },
   "outputs": [
    {
     "data": {
      "text/plain": [
       "0.7713004484304933"
      ]
     },
     "execution_count": 5,
     "metadata": {},
     "output_type": "execute_result"
    },
    {
     "data": {
      "image/png": "[encoded data removed]",
      "text/plain": [
       "<Figure size 432x288 with 1 Axes>"
      ]
     },
     "metadata": {
      "needs_background": "light"
     },
     "output_type": "display_data"
    }
   ],
   "source": [
    "# decision tree model \n",
    "dt = tree.DecisionTreeClassifier(max_depth=4)\n",
    "dt.fit(x_train, y_train)\n",
    "\n",
    "tree.plot_tree(dt)\n",
    "\n",
    "y_predict = dt.predict(x_test)\n",
    "accuracy_score(y_test, y_predict)"
   ]
  },
  {
   "cell_type": "code",
   "execution_count": 6,
   "id": "03af9efb",
   "metadata": {
    "execution": {
     "iopub.execute_input": "2022-03-17T19:47:43.982689Z",
     "iopub.status.busy": "2022-03-17T19:47:43.981971Z",
     "iopub.status.idle": "2022-03-17T19:47:44.193972Z",
     "shell.execute_reply": "2022-03-17T19:47:44.193441Z",
     "shell.execute_reply.started": "2022-03-17T19:38:37.184389Z"
    },
    "papermill": {
     "duration": 0.233401,
     "end_time": "2022-03-17T19:47:44.194106",
     "exception": false,
     "start_time": "2022-03-17T19:47:43.960705",
     "status": "completed"
    },
    "tags": []
   },
   "outputs": [
    {
     "data": {
      "text/plain": [
       "0.7757847533632287"
      ]
     },
     "execution_count": 6,
     "metadata": {},
     "output_type": "execute_result"
    }
   ],
   "source": [
    "#random forest \n",
    "rf = RandomForestClassifier(max_depth=6) \n",
    "rf.fit(x_train, y_train)\n",
    "\n",
    "y_predict = rf.predict(x_test)\n",
    "accuracy_score(y_test, y_predict)"
   ]
  },
  {
   "cell_type": "code",
   "execution_count": 7,
   "id": "86d33321",
   "metadata": {
    "execution": {
     "iopub.execute_input": "2022-03-17T19:47:44.230688Z",
     "iopub.status.busy": "2022-03-17T19:47:44.229959Z",
     "iopub.status.idle": "2022-03-17T19:47:45.309426Z",
     "shell.execute_reply": "2022-03-17T19:47:45.308882Z",
     "shell.execute_reply.started": "2022-03-17T19:38:37.410979Z"
    },
    "papermill": {
     "duration": 1.101328,
     "end_time": "2022-03-17T19:47:45.309580",
     "exception": false,
     "start_time": "2022-03-17T19:47:44.208252",
     "status": "completed"
    },
    "tags": []
   },
   "outputs": [
    {
     "name": "stdout",
     "output_type": "stream",
     "text": [
      "[0.81343284 0.84328358 0.88059701 0.85714286 0.86466165]\n",
      "[0.81343284 0.81343284 0.8880597  0.84962406 0.85714286]\n",
      "AvgDT :  0.8518235888228034\n",
      "AvgRF :  0.8443384580855122\n"
     ]
    }
   ],
   "source": [
    "#applying the 5 folds validation \n",
    "\n",
    "avgDT = 0\n",
    "avgRF = 0\n",
    "\n",
    "dtScores = cross_val_score(dt, x_train, y_train, cv=5)\n",
    "print(dtScores)\n",
    "\n",
    "rfScores = cross_val_score(rf, x_train, y_train, cv=5)\n",
    "print(rfScores)\n",
    "\n",
    "for i in range(5):\n",
    "    avgDT += dtScores[i]\n",
    "    avgRF += rfScores[i]\n",
    "    \n",
    "avgDT = avgDT / 5\n",
    "avgRF = avgRF / 5\n",
    "\n",
    "#printingt average \n",
    "print(\"AvgDT : \", avgDT)\n",
    "print(\"AvgRF : \", avgRF)"
   ]
  },
  {
   "cell_type": "code",
   "execution_count": 8,
   "id": "a58514dc",
   "metadata": {
    "execution": {
     "iopub.execute_input": "2022-03-17T19:47:45.349458Z",
     "iopub.status.busy": "2022-03-17T19:47:45.348564Z",
     "iopub.status.idle": "2022-03-17T19:47:46.218676Z",
     "shell.execute_reply": "2022-03-17T19:47:46.219158Z",
     "shell.execute_reply.started": "2022-03-17T19:38:38.474383Z"
    },
    "papermill": {
     "duration": 0.894643,
     "end_time": "2022-03-17T19:47:46.219331",
     "exception": false,
     "start_time": "2022-03-17T19:47:45.324688",
     "status": "completed"
    },
    "tags": []
   },
   "outputs": [
    {
     "name": "stdout",
     "output_type": "stream",
     "text": [
      "linear: \n",
      "0.7937219730941704\n",
      "quadratic: \n",
      "0.5919282511210763\n",
      "rbf: \n",
      "0.6367713004484304\n"
     ]
    }
   ],
   "source": [
    "from sklearn.svm import SVC\n",
    "from sklearn.pipeline import make_pipeline\n",
    "from sklearn.preprocessing import StandardScaler\n",
    "\n",
    "#linear\n",
    "svmline = SVC(kernel = 'linear')\n",
    "svmline.fit(x_train,y_train)\n",
    "\n",
    "y_predline = svmline.predict(x_test)\n",
    "print(\"linear: \")\n",
    "print(accuracy_score(y_test, y_predline))\n",
    "\n",
    "#quadratic\n",
    "svmquad = SVC(kernel = 'poly')\n",
    "svmquad.fit(x_train,y_train)\n",
    "\n",
    "y_predquad = svmquad.predict(x_test)\n",
    "print(\"quadratic: \")\n",
    "print(accuracy_score(y_test, y_predquad))\n",
    "\n",
    "#rbf\n",
    "svmrbf = SVC(kernel = 'rbf')\n",
    "svmrbf.fit(x_train,y_train)\n",
    "\n",
    "y_predrbf = svmrbf.predict(x_test)\n",
    "print(\"rbf: \")\n",
    "print(accuracy_score(y_test, y_predrbf))"
   ]
  },
  {
   "cell_type": "code",
   "execution_count": 9,
   "id": "153f24de",
   "metadata": {
    "execution": {
     "iopub.execute_input": "2022-03-17T19:47:46.257747Z",
     "iopub.status.busy": "2022-03-17T19:47:46.257105Z",
     "iopub.status.idle": "2022-03-17T19:47:56.794950Z",
     "shell.execute_reply": "2022-03-17T19:47:56.794327Z",
     "shell.execute_reply.started": "2022-03-17T19:38:39.344154Z"
    },
    "papermill": {
     "duration": 10.560158,
     "end_time": "2022-03-17T19:47:56.795103",
     "exception": false,
     "start_time": "2022-03-17T19:47:46.234945",
     "status": "completed"
    },
    "tags": []
   },
   "outputs": [
    {
     "name": "stdout",
     "output_type": "stream",
     "text": [
      "linear: \n",
      "[0.70149254 0.79850746 0.85074627 0.81203008 0.79699248]\n",
      "quad: \n",
      "[0.64179104 0.64179104 0.68656716 0.66917293 0.66917293]\n",
      "rbf: \n",
      "[0.70149254 0.62686567 0.70895522 0.64661654 0.69924812]\n"
     ]
    }
   ],
   "source": [
    "#5 folds cross validation for linear \n",
    "lineScores = cross_val_score(svmline, x_train, y_train, cv=5)\n",
    "print(\"linear: \")\n",
    "print(lineScores)\n",
    "\n",
    "#5 folds cross validation for quadratic\n",
    "quadScores = cross_val_score(svmquad, x_train, y_train, cv=5)\n",
    "print(\"quad: \")\n",
    "print(quadScores)\n",
    "\n",
    "#5 folds cross validation for rbf \n",
    "rbfScores = cross_val_score(svmrbf, x_train, y_train, cv=5)\n",
    "print(\"rbf: \")\n",
    "print(rbfScores)"
   ]
  },
  {
   "cell_type": "code",
   "execution_count": 10,
   "id": "85f29dd3",
   "metadata": {
    "execution": {
     "iopub.execute_input": "2022-03-17T19:47:56.837672Z",
     "iopub.status.busy": "2022-03-17T19:47:56.836475Z",
     "iopub.status.idle": "2022-03-17T19:47:56.845139Z",
     "shell.execute_reply": "2022-03-17T19:47:56.844228Z",
     "shell.execute_reply.started": "2022-03-17T19:39:50.172298Z"
    },
    "papermill": {
     "duration": 0.032748,
     "end_time": "2022-03-17T19:47:56.845351",
     "exception": false,
     "start_time": "2022-03-17T19:47:56.812603",
     "status": "completed"
    },
    "tags": []
   },
   "outputs": [
    {
     "name": "stdout",
     "output_type": "stream",
     "text": [
      "Avg linear :  0.7919537650095387\n",
      "Avg quadratric :  0.6616990236785995\n",
      "Avg rbf :  0.6766356188979913\n"
     ]
    }
   ],
   "source": [
    "#finding the average cross validation accuracy for each \n",
    "\n",
    "avgline = 0\n",
    "avgquad = 0\n",
    "avgrbf = 0\n",
    "\n",
    "for i in range(5):\n",
    "    avgline += lineScores[i]\n",
    "    avgquad += quadScores[i]\n",
    "    avgrbf += rbfScores[i]\n",
    "    \n",
    "avgline = avgline / 5\n",
    "avgquad = avgquad / 5\n",
    "avgrbf = avgrbf / 5\n",
    "\n",
    "print(\"Avg linear : \", avgline)\n",
    "print(\"Avg quadratric : \", avgquad)\n",
    "print(\"Avg rbf : \", avgrbf)"
   ]
  }
 ],
 "metadata": {
  "kernelspec": {
   "display_name": "Python 3",
   "language": "python",
   "name": "python3"
  },
  "language_info": {
   "codemirror_mode": {
    "name": "ipython",
    "version": 3
   },
   "file_extension": ".py",
   "mimetype": "text/x-python",
   "name": "python",
   "nbconvert_exporter": "python",
   "pygments_lexer": "ipython3",
   "version": "3.7.12"
  },
  "papermill": {
   "default_parameters": {},
   "duration": 27.458148,
   "end_time": "2022-03-17T19:47:57.677762",
   "environment_variables": {},
   "exception": null,
   "input_path": "__notebook__.ipynb",
   "output_path": "__notebook__.ipynb",
   "parameters": {},
   "start_time": "2022-03-17T19:47:30.219614",
   "version": "2.3.3"
  }
 },
 "nbformat": 4,
 "nbformat_minor": 5
}
